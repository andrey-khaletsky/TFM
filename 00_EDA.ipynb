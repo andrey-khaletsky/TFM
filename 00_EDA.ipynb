{
 "cells": [
  {
   "cell_type": "code",
   "id": "initial_id",
   "metadata": {
    "collapsed": true,
    "ExecuteTime": {
     "end_time": "2025-01-09T09:47:17.156021Z",
     "start_time": "2025-01-09T09:47:17.153355Z"
    }
   },
   "source": [
    "import osmnx as ox\n",
    "import networkx as nx\n",
    "import matplotlib.pyplot as plt\n",
    "import pandas as pd\n",
    "import numpy as np\n",
    "import geopandas as gpd\n",
    "import pickle\n",
    "import os\n",
    "import missingno as msno\n",
    "import shapely.io\n",
    "from shapely.geometry import Point, LineString\n",
    "\n",
    "import base64\n",
    "from shapely import wkb\n",
    "\n",
    "from lxml import etree\n",
    "from datetime import time"
   ],
   "execution_count": 17,
   "outputs": []
  },
  {
   "metadata": {},
   "cell_type": "markdown",
   "source": "# Load red bicicleta",
   "id": "388d3d12a7e0e0a0"
  },
  {
   "metadata": {
    "ExecuteTime": {
     "end_time": "2024-12-04T19:21:58.800975Z",
     "start_time": "2024-12-04T19:21:57.654954Z"
    }
   },
   "cell_type": "code",
   "source": [
    "import json\n",
    "\n",
    "with open('data/redes/red_bicicleta_normatividad.txt', 'r') as file:\n",
    "    bici = json.load(file)"
   ],
   "id": "9973b953d1ac9df2",
   "execution_count": 3,
   "outputs": []
  },
  {
   "metadata": {
    "ExecuteTime": {
     "end_time": "2024-12-04T19:21:58.812276Z",
     "start_time": "2024-12-04T19:21:58.804389Z"
    }
   },
   "cell_type": "code",
   "source": "bici.keys()",
   "id": "aea405688a1cf235",
   "execution_count": 4,
   "outputs": []
  },
  {
   "metadata": {
    "ExecuteTime": {
     "end_time": "2024-12-04T19:21:58.816697Z",
     "start_time": "2024-12-04T19:21:58.814290Z"
    }
   },
   "cell_type": "code",
   "source": "bici['graph']",
   "id": "75238126db3b1640",
   "execution_count": 5,
   "outputs": []
  },
  {
   "metadata": {},
   "cell_type": "markdown",
   "source": "## Load nodes",
   "id": "cc67ee2a1f66f3e7"
  },
  {
   "metadata": {
    "ExecuteTime": {
     "end_time": "2024-12-04T19:21:58.820263Z",
     "start_time": "2024-12-04T19:21:58.817585Z"
    }
   },
   "cell_type": "code",
   "source": "bici['nodes'][0].keys()",
   "id": "792539f9743f966c",
   "execution_count": 6,
   "outputs": []
  },
  {
   "metadata": {
    "ExecuteTime": {
     "end_time": "2024-12-04T19:21:58.848350Z",
     "start_time": "2024-12-04T19:21:58.821447Z"
    }
   },
   "cell_type": "code",
   "source": [
    "x = []\n",
    "y = []\n",
    "id = []\n",
    "\n",
    "for node in bici['nodes']:\n",
    "    x.append(node['x'])\n",
    "    y.append(node['y'])\n",
    "    id.append(node['id'])\n"
   ],
   "id": "9f460cee6c6186af",
   "execution_count": 7,
   "outputs": []
  },
  {
   "metadata": {
    "ExecuteTime": {
     "end_time": "2024-12-04T19:22:03.512891Z",
     "start_time": "2024-12-04T19:21:58.849273Z"
    }
   },
   "cell_type": "code",
   "source": [
    "nodes_geometry = gpd.GeoSeries([Point(x, y) for x, y in zip(x, y)], name='geometry')\n",
    "\n",
    "nodes = gpd.GeoDataFrame({'geometry': nodes_geometry, 'id': id})\n",
    "nodes.plot()"
   ],
   "id": "8fde6bcba559c9f9",
   "execution_count": 8,
   "outputs": []
  },
  {
   "metadata": {
    "ExecuteTime": {
     "end_time": "2024-12-04T19:22:03.603023Z",
     "start_time": "2024-12-04T19:22:03.513573Z"
    }
   },
   "cell_type": "code",
   "source": "nodes = nodes.set_crs('ETRS89_UTM_zone_30N')",
   "id": "441c96bb3f7cf072",
   "execution_count": 9,
   "outputs": []
  },
  {
   "metadata": {},
   "cell_type": "markdown",
   "source": "## Load links",
   "id": "2f4ff450c4c8291"
  },
  {
   "metadata": {
    "ExecuteTime": {
     "end_time": "2024-12-04T19:22:03.606581Z",
     "start_time": "2024-12-04T19:22:03.603918Z"
    }
   },
   "cell_type": "code",
   "source": "bici['links'][0].keys()",
   "id": "6a6501e7986945c9",
   "execution_count": 10,
   "outputs": []
  },
  {
   "metadata": {
    "ExecuteTime": {
     "end_time": "2024-12-04T19:22:03.610886Z",
     "start_time": "2024-12-04T19:22:03.608389Z"
    }
   },
   "cell_type": "code",
   "source": "bici['links'][0]",
   "id": "3dcb833fd4cf50f4",
   "execution_count": 11,
   "outputs": []
  },
  {
   "metadata": {
    "ExecuteTime": {
     "end_time": "2024-12-04T19:22:03.613874Z",
     "start_time": "2024-12-04T19:22:03.611590Z"
    }
   },
   "cell_type": "code",
   "source": "bici['links'][0]['geometry']['py/reduce'][1]['py/tuple'][0]['py/b64']",
   "id": "abb15fa7308eaa8b",
   "execution_count": 12,
   "outputs": []
  },
  {
   "metadata": {
    "ExecuteTime": {
     "end_time": "2024-12-04T19:22:04.257233Z",
     "start_time": "2024-12-04T19:22:03.614651Z"
    }
   },
   "cell_type": "code",
   "source": [
    "import base64\n",
    "from shapely import wkb\n",
    "\n",
    "osmid = []\n",
    "length = []\n",
    "time = []\n",
    "geometry = []\n",
    "source = []\n",
    "target = []\n",
    "key = []\n",
    "\n",
    "for link in bici['links']:\n",
    "    osmid.append(link['osmid'])\n",
    "    length.append(link['length'])\n",
    "    time.append(link['time'])\n",
    "    \n",
    "    geometry_base64 = link['geometry']['py/reduce'][1]['py/tuple'][0]['py/b64']\n",
    "    \n",
    "    # Step 1: Decode the Base64 string into binary data\n",
    "    binary_data = base64.b64decode(geometry_base64)\n",
    "    \n",
    "    # Step 2: Deserialize the binary data using pickle\n",
    "    geometry_shapely = wkb.loads(binary_data, hex=True)\n",
    "    \n",
    "    geometry.append(geometry_shapely)\n",
    "    \n",
    "    source.append(link['source'])\n",
    "    target.append(link['target'])\n",
    "    key.append(link['key'])\n",
    "\n"
   ],
   "id": "9d884018285b0c8c",
   "execution_count": 13,
   "outputs": []
  },
  {
   "metadata": {
    "ExecuteTime": {
     "end_time": "2024-12-04T19:22:07.467230Z",
     "start_time": "2024-12-04T19:22:04.258076Z"
    }
   },
   "cell_type": "code",
   "source": [
    "links = gpd.GeoDataFrame({'osmid': osmid, \n",
    "                          'length':length,\n",
    "                          'time':time,\n",
    "                          'geometry':geometry,\n",
    "                          'source':source,\n",
    "                          'target':target,\n",
    "                          'key':key\n",
    "                          })\n",
    "links.plot()"
   ],
   "id": "9c4cc92582798c2a",
   "execution_count": 14,
   "outputs": []
  },
  {
   "metadata": {
    "ExecuteTime": {
     "end_time": "2024-12-04T19:22:09.256990Z",
     "start_time": "2024-12-04T19:22:09.126243Z"
    }
   },
   "cell_type": "code",
   "source": "links = links.set_crs('ETRS89_UTM_zone_30N')",
   "id": "6a7b730e270a5aff",
   "execution_count": 15,
   "outputs": []
  },
  {
   "metadata": {},
   "cell_type": "markdown",
   "source": "## Save to SHP",
   "id": "5fb8b59ddf6fc86"
  },
  {
   "metadata": {
    "ExecuteTime": {
     "end_time": "2024-12-04T19:23:06.169032Z",
     "start_time": "2024-12-04T19:23:03.519483Z"
    }
   },
   "cell_type": "code",
   "source": [
    "nodes.to_file('data/redes/red_bicicleta_normatividad_nodes.shp', driver='ESRI Shapefile')\n",
    "links.to_file('data/redes/red_bicicleta_normatividad_links.shp', driver='ESRI Shapefile')"
   ],
   "id": "6fb45fe404e5ca7f",
   "execution_count": 16,
   "outputs": []
  },
  {
   "metadata": {},
   "cell_type": "markdown",
   "source": "# Load red caminable",
   "id": "72b7e6ed7c28befc"
  },
  {
   "metadata": {
    "ExecuteTime": {
     "end_time": "2025-01-09T09:40:19.587072Z",
     "start_time": "2025-01-09T09:40:17.693765Z"
    }
   },
   "cell_type": "code",
   "source": [
    "import json\n",
    "\n",
    "with open('data/redes/caminable/red_caminable_normatividad.txt', 'r') as file:\n",
    "    caminable = json.load(file)"
   ],
   "id": "49248f3caec86a15",
   "execution_count": 3,
   "outputs": []
  },
  {
   "metadata": {
    "ExecuteTime": {
     "end_time": "2025-01-09T09:40:21.589400Z",
     "start_time": "2025-01-09T09:40:21.584115Z"
    }
   },
   "cell_type": "code",
   "source": "caminable.keys()",
   "id": "be8068b5e762e7ca",
   "execution_count": 4,
   "outputs": []
  },
  {
   "metadata": {
    "ExecuteTime": {
     "end_time": "2025-01-09T09:40:25.723572Z",
     "start_time": "2025-01-09T09:40:25.720969Z"
    }
   },
   "cell_type": "code",
   "source": "caminable['graph']",
   "id": "46a1aaa2773b52c2",
   "execution_count": 5,
   "outputs": []
  },
  {
   "metadata": {},
   "cell_type": "markdown",
   "source": "## Load nodes",
   "id": "aafc421b4db68a71"
  },
  {
   "metadata": {
    "ExecuteTime": {
     "end_time": "2025-01-09T09:41:05.273272Z",
     "start_time": "2025-01-09T09:41:05.270573Z"
    }
   },
   "cell_type": "code",
   "source": "caminable['nodes'][0].keys()",
   "id": "1e610d0a5785e999",
   "execution_count": 7,
   "outputs": []
  },
  {
   "metadata": {
    "ExecuteTime": {
     "end_time": "2025-01-09T09:43:48.243817Z",
     "start_time": "2025-01-09T09:43:48.241506Z"
    }
   },
   "cell_type": "code",
   "source": "caminable['nodes'][0]['highway']",
   "id": "ee50d72e59db7ae5",
   "execution_count": 10,
   "outputs": []
  },
  {
   "metadata": {
    "ExecuteTime": {
     "end_time": "2025-01-09T09:49:17.972975Z",
     "start_time": "2025-01-09T09:49:15.849931Z"
    }
   },
   "cell_type": "code",
   "source": [
    "x = []\n",
    "y = []\n",
    "highway = []\n",
    "street_count = []\n",
    "lat = []\n",
    "lon = []\n",
    "id = []\n",
    "\n",
    "for node in caminable['nodes']:\n",
    "    # x.append(node['x'])\n",
    "    \n",
    "    x_base64 = node['x']['py/reduce'][1]['py/tuple'][0]['py/b64']\n",
    "    binary_data = base64.b64decode(x_base64)\n",
    "    x_shapely = wkb.loads(binary_data, hex=True)\n",
    "    x.append(x_shapely)\n",
    "    \n",
    "    y.append(node['y'])\n",
    "    # highway.append(node['highway'])\n",
    "    street_count.append(node['street_count'])\n",
    "    lat.append(node['lat'])\n",
    "    lon.append(node['lon'])\n",
    "    id.append(node['id'])\n"
   ],
   "id": "5753443bc3fa9060",
   "execution_count": 21,
   "outputs": []
  },
  {
   "metadata": {
    "ExecuteTime": {
     "end_time": "2025-01-09T09:44:59.900843Z",
     "start_time": "2025-01-09T09:44:59.844338Z"
    }
   },
   "cell_type": "code",
   "source": "y",
   "id": "af0adbf4e60c7c16",
   "execution_count": 14,
   "outputs": []
  },
  {
   "metadata": {
    "ExecuteTime": {
     "end_time": "2025-01-09T09:44:35.345306Z",
     "start_time": "2025-01-09T09:44:35.306880Z"
    }
   },
   "cell_type": "code",
   "source": [
    "caminable_nodes_geometry = gpd.GeoSeries([Point(x, y) for x, y in zip(x, y)], name='geometry')\n",
    "\n",
    "caminable_nodes = gpd.GeoDataFrame({'geometry': caminable_nodes_geometry, 'id': id})\n",
    "caminable_nodes.plot()"
   ],
   "id": "41d14912bb07aa36",
   "execution_count": 12,
   "outputs": []
  },
  {
   "metadata": {},
   "cell_type": "code",
   "execution_count": 9,
   "source": "nodes = nodes.set_crs('ETRS89_UTM_zone_30N')",
   "id": "ec75a90e01e5f8b0",
   "outputs": []
  },
  {
   "metadata": {},
   "cell_type": "markdown",
   "source": "## Load links",
   "id": "3537098439287db6"
  },
  {
   "metadata": {},
   "cell_type": "code",
   "execution_count": 10,
   "source": "bici['links'][0].keys()",
   "id": "1b29efc4ac7eca81",
   "outputs": []
  },
  {
   "metadata": {},
   "cell_type": "code",
   "execution_count": 11,
   "source": "bici['links'][0]",
   "id": "c002f205036f8763",
   "outputs": []
  },
  {
   "metadata": {},
   "cell_type": "code",
   "execution_count": 12,
   "source": "bici['links'][0]['geometry']['py/reduce'][1]['py/tuple'][0]['py/b64']",
   "id": "c2aefc18b23ad661",
   "outputs": []
  },
  {
   "metadata": {},
   "cell_type": "code",
   "execution_count": 13,
   "source": [
    "import base64\n",
    "from shapely import wkb\n",
    "\n",
    "osmid = []\n",
    "length = []\n",
    "time = []\n",
    "geometry = []\n",
    "source = []\n",
    "target = []\n",
    "key = []\n",
    "\n",
    "for link in bici['links']:\n",
    "    osmid.append(link['osmid'])\n",
    "    length.append(link['length'])\n",
    "    time.append(link['time'])\n",
    "    \n",
    "    geometry_base64 = link['geometry']['py/reduce'][1]['py/tuple'][0]['py/b64']\n",
    "    \n",
    "    # Step 1: Decode the Base64 string into binary data\n",
    "    binary_data = base64.b64decode(geometry_base64)\n",
    "    \n",
    "    # Step 2: Deserialize the binary data using pickle\n",
    "    geometry_shapely = wkb.loads(binary_data, hex=True)\n",
    "    \n",
    "    geometry.append(geometry_shapely)\n",
    "    \n",
    "    source.append(link['source'])\n",
    "    target.append(link['target'])\n",
    "    key.append(link['key'])\n",
    "\n"
   ],
   "id": "19f6b3f312a38cfe",
   "outputs": []
  },
  {
   "metadata": {},
   "cell_type": "code",
   "execution_count": 14,
   "source": [
    "links = gpd.GeoDataFrame({'osmid': osmid, \n",
    "                          'length':length,\n",
    "                          'time':time,\n",
    "                          'geometry':geometry,\n",
    "                          'source':source,\n",
    "                          'target':target,\n",
    "                          'key':key\n",
    "                          })\n",
    "links.plot()"
   ],
   "id": "6dafba9a601ffffb",
   "outputs": []
  },
  {
   "metadata": {},
   "cell_type": "markdown",
   "source": "# Load `centros_docentes_12-11-2024.xls`",
   "id": "b7e5545a0218fd6b"
  },
  {
   "metadata": {
    "ExecuteTime": {
     "end_time": "2024-12-04T19:08:06.657923Z",
     "start_time": "2024-12-04T19:08:06.501301Z"
    }
   },
   "cell_type": "code",
   "source": [
    "centros = pd.read_excel('data/centros_docentes_12-11-2024.xls')\n",
    "centros"
   ],
   "id": "7d9bdb300295a6f9",
   "execution_count": 11,
   "outputs": []
  },
  {
   "metadata": {
    "ExecuteTime": {
     "end_time": "2024-12-04T19:08:29.868601Z",
     "start_time": "2024-12-04T19:08:29.481165Z"
    }
   },
   "cell_type": "code",
   "source": "msno.matrix(centros)",
   "id": "edad8c3d9f886f6f",
   "execution_count": 12,
   "outputs": []
  },
  {
   "metadata": {},
   "cell_type": "code",
   "execution_count": null,
   "source": "",
   "id": "9240f6aad9d23d2",
   "outputs": []
  },
  {
   "metadata": {},
   "cell_type": "markdown",
   "source": "# Load `resumen-de-escolarizacion_2023.csv`",
   "id": "b78e992357ef0116"
  },
  {
   "metadata": {
    "ExecuteTime": {
     "end_time": "2024-12-04T19:09:20.022572Z",
     "start_time": "2024-12-04T19:09:19.940930Z"
    }
   },
   "cell_type": "code",
   "source": [
    "escolarizacion = pd.read_csv('data/resumen-de-escolarizacion_2023.csv', sep=';')\n",
    "escolarizacion"
   ],
   "id": "ef2dab7ec296900c",
   "execution_count": 14,
   "outputs": []
  },
  {
   "metadata": {
    "ExecuteTime": {
     "end_time": "2024-12-04T19:09:41.187540Z",
     "start_time": "2024-12-04T19:09:40.813129Z"
    }
   },
   "cell_type": "code",
   "source": "msno.matrix(escolarizacion)",
   "id": "f4cbe8ea4b752ca8",
   "execution_count": 15,
   "outputs": []
  },
  {
   "metadata": {},
   "cell_type": "code",
   "execution_count": null,
   "source": "",
   "id": "528d685c5f6503b2",
   "outputs": []
  }
 ],
 "metadata": {
  "kernelspec": {
   "display_name": "Python 3",
   "language": "python",
   "name": "python3"
  },
  "language_info": {
   "codemirror_mode": {
    "name": "ipython",
    "version": 2
   },
   "file_extension": ".py",
   "mimetype": "text/x-python",
   "name": "python",
   "nbconvert_exporter": "python",
   "pygments_lexer": "ipython2",
   "version": "2.7.6"
  }
 },
 "nbformat": 4,
 "nbformat_minor": 5
}
